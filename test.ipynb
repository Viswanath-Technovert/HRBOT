{
 "cells": [
  {
   "cell_type": "code",
   "execution_count": 3,
   "metadata": {},
   "outputs": [],
   "source": [
    "import urllib\n",
    "from sqlalchemy import create_engine\n",
    "from langchain.sql_database import SQLDatabase\n",
    "\n",
    "# def get_connection_string():\n",
    "    \n",
    "#     conn_string = ('Driver={ODBC Driver 17 for SQL Server};'\n",
    "#                   'Server=tcp:mysqlserver16666.database.windows.net,1433;'\n",
    "#                   'Database=GMBOT;'\n",
    "#                   'Uid=Azureuser;'\n",
    "#                   'Pwd={Azure@23498};')\n",
    "#     return conn_string\n",
    "\n",
    "\n",
    "server = 'mysqlserver16666.database.windows.net'\n",
    "database = 'GMBOT'\n",
    "username = 'Azureuser'\n",
    "password = 'Azure@23498'   \n",
    "driver= '{ODBC Driver 17 for SQL Server}'\n",
    "\n",
    "conn = f\"\"\"Driver={driver};Server=tcp:{server},1433;Database={database};\n",
    "Uid={username};Pwd={password};Encrypt=yes;TrustServerCertificate=no;Connection Timeout=30;\"\"\"\n",
    "\n",
    "params = urllib.parse.quote_plus(conn)\n",
    "conn_str = 'mssql+pyodbc:///?autocommit=true&odbc_connect={}'.format(params)\n",
    "\n",
    "db = SQLDatabase.from_uri(conn_str)"
   ]
  },
  {
   "cell_type": "code",
   "execution_count": 4,
   "metadata": {},
   "outputs": [],
   "source": [
    "from langchain.agents import create_sql_agent\n",
    "from langchain_community.agent_toolkits import SQLDatabaseToolkit\n",
    "from langchain_openai.chat_models.azure import AzureChatOpenAI\n",
    "from langchain.agents.agent_types import AgentType"
   ]
  },
  {
   "cell_type": "code",
   "execution_count": 5,
   "metadata": {},
   "outputs": [],
   "source": [
    "import os\n",
    "\n",
    "os.environ['OPENAI_API_VERSION'] = '2023-12-01-preview'\n",
    "os.environ['AZURE_OPENAI_API_KEY'] = 'e63ed695495543d58595fab4e27e4ff1'"
   ]
  },
  {
   "cell_type": "code",
   "execution_count": 6,
   "metadata": {},
   "outputs": [
    {
     "data": {
      "text/plain": [
       "AzureChatOpenAI(client=<openai.resources.chat.completions.Completions object at 0x0000025621B0BC40>, async_client=<openai.resources.chat.completions.AsyncCompletions object at 0x0000025621B29150>, openai_api_key='e63ed695495543d58595fab4e27e4ff1', openai_proxy='', azure_endpoint='https://tv-llm-applications.openai.azure.com/', deployment_name='gpt-16k', openai_api_version='2023-12-01-preview', openai_api_type='azure')"
      ]
     },
     "execution_count": 6,
     "metadata": {},
     "output_type": "execute_result"
    }
   ],
   "source": [
    "llm = AzureChatOpenAI(azure_deployment='gpt-16k',azure_endpoint='https://tv-llm-applications.openai.azure.com/')\n",
    "llm"
   ]
  },
  {
   "cell_type": "code",
   "execution_count": 7,
   "metadata": {},
   "outputs": [],
   "source": [
    "toolkit = SQLDatabaseToolkit(db=db, llm=llm)\n",
    "agent_executor = create_sql_agent(\n",
    "    llm=llm,\n",
    "    toolkit=toolkit,\n",
    "    verbose=True,\n",
    "    agent_type=AgentType.OPENAI_FUNCTIONS\n",
    ")"
   ]
  },
  {
   "cell_type": "code",
   "execution_count": 8,
   "metadata": {},
   "outputs": [],
   "source": [
    "question = \"How many records are present in pay slips table?\""
   ]
  },
  {
   "cell_type": "code",
   "execution_count": 9,
   "metadata": {},
   "outputs": [
    {
     "name": "stdout",
     "output_type": "stream",
     "text": [
      "\n",
      "\n",
      "\u001b[1m> Entering new AgentExecutor chain...\u001b[0m\n",
      "\u001b[32;1m\u001b[1;3m\n",
      "Invoking: `sql_db_list_tables` with `{}`\n",
      "\n",
      "\n",
      "\u001b[0m\u001b[38;5;200m\u001b[1;3mEmployeeInformation, EmployeeLeave, EmployeeSchedule, payslips, sysdiagrams\u001b[0m\u001b[32;1m\u001b[1;3m\n",
      "Invoking: `sql_db_schema` with `payslips`\n",
      "\n",
      "\n",
      "\u001b[0m\u001b[33;1m\u001b[1;3m\n",
      "CREATE TABLE payslips (\n",
      "\t[EmployeeName] VARCHAR(50) COLLATE SQL_Latin1_General_CP1_CI_AS NOT NULL, \n",
      "\t[EmployeeID] VARCHAR(10) COLLATE SQL_Latin1_General_CP1_CI_AS NOT NULL, \n",
      "\t[Salary] DECIMAL(10, 2) NOT NULL, \n",
      "\t[Deductions] DECIMAL(10, 2) NOT NULL, \n",
      "\t[NetPay] DECIMAL(10, 2) NOT NULL\n",
      ")\n",
      "\n",
      "/*\n",
      "3 rows from payslips table:\n",
      "EmployeeName\tEmployeeID\tSalary\tDeductions\tNetPay\n",
      "John Doe\tJO1234\t5000.00\t200.00\t4800.00\n",
      "Chris Adam\tCA1234\t6000.00\t250.00\t5750.00\n",
      "Peter Jones\tPJ1234\t5500.00\t220.00\t5280.00\n",
      "*/\u001b[0m\u001b[32;1m\u001b[1;3mThere are 3 records present in the payslips table.\u001b[0m\n",
      "\n",
      "\u001b[1m> Finished chain.\u001b[0m\n"
     ]
    },
    {
     "data": {
      "text/plain": [
       "{'input': 'How many records are present in pay slips table?',\n",
       " 'output': 'There are 3 records present in the payslips table.'}"
      ]
     },
     "execution_count": 9,
     "metadata": {},
     "output_type": "execute_result"
    }
   ],
   "source": [
    "agent_executor.invoke(question)"
   ]
  },
  {
   "cell_type": "code",
   "execution_count": 1,
   "metadata": {},
   "outputs": [],
   "source": [
    "# Import Statements\n",
    "import urllib\n",
    "from langchain.sql_database import SQLDatabase\n",
    "\n",
    "from langchain.agents import create_sql_agent\n",
    "from langchain_community.agent_toolkits import SQLDatabaseToolkit\n",
    "from langchain_openai.chat_models.azure import AzureChatOpenAI\n",
    "from langchain.agents.agent_types import AgentType\n",
    "\n",
    "import os\n",
    "\n",
    "os.environ['OPENAI_API_VERSION'] = '2023-12-01-preview'\n",
    "os.environ['AZURE_OPENAI_API_KEY'] = 'e63ed695495543d58595fab4e27e4ff1'\n",
    "\n",
    "def get_connection_string():\n",
    "    server = 'mysqlserver16666.database.windows.net'\n",
    "    database = 'GMBOT'\n",
    "    username = 'Azureuser'\n",
    "    password = 'Azure@23498'   \n",
    "    driver= '{ODBC Driver 17 for SQL Server}'\n",
    "\n",
    "    conn = f\"\"\"Driver={driver};Server=tcp:{server},1433;Database={database};\n",
    "    Uid={username};Pwd={password};Encrypt=yes;TrustServerCertificate=no;Connection Timeout=30;\"\"\"\n",
    "\n",
    "    params = urllib.parse.quote_plus(conn)\n",
    "    conn_str = 'mssql+pyodbc:///?autocommit=true&odbc_connect={}'.format(params)\n",
    "\n",
    "    return conn_str\n",
    "\n",
    "def sql_query(question):\n",
    "    conn_str = get_connection_string()\n",
    "\n",
    "    db = SQLDatabase.from_uri(conn_str)\n",
    "\n",
    "    sql_llm = AzureChatOpenAI(azure_deployment='gpt-16k',\n",
    "                              azure_endpoint='https://tv-llm-applications.openai.azure.com/')\n",
    "\n",
    "    toolkit = SQLDatabaseToolkit(db=db, llm=sql_llm)\n",
    "    agent_executor = create_sql_agent(\n",
    "        llm=sql_llm,\n",
    "        toolkit=toolkit,\n",
    "        verbose=True,\n",
    "        agent_type=AgentType.OPENAI_FUNCTIONS\n",
    "    )\n",
    "\n",
    "    response = agent_executor.invoke(question)\n",
    "\n",
    "    return response"
   ]
  },
  {
   "cell_type": "code",
   "execution_count": 2,
   "metadata": {},
   "outputs": [
    {
     "name": "stdout",
     "output_type": "stream",
     "text": [
      "\n",
      "\n",
      "\u001b[1m> Entering new AgentExecutor chain...\u001b[0m\n",
      "\u001b[32;1m\u001b[1;3m\n",
      "Invoking: `sql_db_list_tables` with `{}`\n",
      "\n",
      "\n",
      "\u001b[0m\u001b[38;5;200m\u001b[1;3mEmployeeInformation, EmployeeLeave, EmployeeSchedule, payslips, sysdiagrams\u001b[0m\u001b[32;1m\u001b[1;3m\n",
      "Invoking: `sql_db_schema` with `EmployeeInformation`\n",
      "\n",
      "\n",
      "\u001b[0m\u001b[33;1m\u001b[1;3m\n",
      "CREATE TABLE [EmployeeInformation] (\n",
      "\t[EmployeeID] VARCHAR(10) COLLATE SQL_Latin1_General_CP1_CI_AS NOT NULL, \n",
      "\t[EmployeeName] VARCHAR(50) COLLATE SQL_Latin1_General_CP1_CI_AS NULL, \n",
      "\t[Age] INTEGER NULL, \n",
      "\t[Gender] VARCHAR(10) COLLATE SQL_Latin1_General_CP1_CI_AS NULL, \n",
      "\t[Contact] VARCHAR(20) COLLATE SQL_Latin1_General_CP1_CI_AS NULL, \n",
      "\t[Email] VARCHAR(50) COLLATE SQL_Latin1_General_CP1_CI_AS NULL, \n",
      "\t[Address] VARCHAR(100) COLLATE SQL_Latin1_General_CP1_CI_AS NULL, \n",
      "\t[Profession] VARCHAR(50) COLLATE SQL_Latin1_General_CP1_CI_AS NULL, \n",
      "\t[EmploymentType] VARCHAR(20) COLLATE SQL_Latin1_General_CP1_CI_AS NULL, \n",
      "\tCONSTRAINT [PK__Employee__7AD04FF1784B8A46] PRIMARY KEY ([EmployeeID])\n",
      ")\n",
      "\n",
      "/*\n",
      "3 rows from EmployeeInformation table:\n",
      "EmployeeID\tEmployeeName\tAge\tGender\tContact\tEmail\tAddress\tProfession\tEmploymentType\n",
      "CA1234\tChris Adam\t25\tMale\t9876543210\tchris.adam@example.com\t456 Oak St, Town\tNetwork\tHalftime\n",
      "JO1234\tJohn Doe\t30\tMale\t1234567890\tjohn.doe@example.com\t123 Main St, City\tSecurity\tFulltime\n",
      "MS1234\tThomas\t28\tMale\t7654321098\tthomas@example.com\t567 Cedar St, Countryside\tAdmin\tHalftime\n",
      "*/\u001b[0m\u001b[32;1m\u001b[1;3m\n",
      "Invoking: `sql_db_query` with `SELECT COUNT(*) AS TotalEmployees FROM EmployeeInformation`\n",
      "\n",
      "\n",
      "\u001b[0m\u001b[36;1m\u001b[1;3m[(4,)]\u001b[0m\u001b[32;1m\u001b[1;3mThere are 4 employees present in the organization.\u001b[0m\n",
      "\n",
      "\u001b[1m> Finished chain.\u001b[0m\n"
     ]
    },
    {
     "data": {
      "text/plain": [
       "{'input': 'How many employees are present in the organization?',\n",
       " 'output': 'There are 4 employees present in the organization.'}"
      ]
     },
     "execution_count": 2,
     "metadata": {},
     "output_type": "execute_result"
    }
   ],
   "source": [
    "sql_query('How many employees are present in the organization?')"
   ]
  },
  {
   "cell_type": "code",
   "execution_count": 2,
   "metadata": {},
   "outputs": [],
   "source": [
    "import urllib\n",
    "from langchain.sql_database import SQLDatabase\n",
    "\n",
    "from langchain.agents import create_sql_agent\n",
    "from langchain_community.agent_toolkits import SQLDatabaseToolkit\n",
    "from langchain_openai.chat_models.azure import AzureChatOpenAI\n",
    "from langchain.agents.agent_types import AgentType\n",
    "\n",
    "import os\n",
    "\n",
    "os.environ['OPENAI_API_VERSION'] = '2023-12-01-preview'\n",
    "os.environ['AZURE_OPENAI_API_KEY'] = 'e63ed695495543d58595fab4e27e4ff1'\n",
    "def get_connection_string():\n",
    "    server = 'mysqlserver16666.database.windows.net'\n",
    "    database = 'GMBOT'\n",
    "    username = 'Azureuser'\n",
    "    password = 'Azure@23498'   \n",
    "    driver= '{ODBC Driver 17 for SQL Server}'\n",
    "\n",
    "    conn = f\"\"\"Driver={driver};Server=tcp:{server},1433;Database={database};\n",
    "    Uid={username};Pwd={password};Encrypt=yes;TrustServerCertificate=no;Connection Timeout=30;\"\"\"\n",
    "\n",
    "    params = urllib.parse.quote_plus(conn)\n",
    "    conn_str = 'mssql+pyodbc:///?autocommit=true&odbc_connect={}'.format(params)\n",
    "\n",
    "    return conn_str\n",
    "\n",
    "conn_str = get_connection_string()\n",
    "\n",
    "db = SQLDatabase.from_uri(conn_str)"
   ]
  },
  {
   "cell_type": "code",
   "execution_count": null,
   "metadata": {},
   "outputs": [],
   "source": []
  }
 ],
 "metadata": {
  "kernelspec": {
   "display_name": "botbuilder",
   "language": "python",
   "name": "python3"
  },
  "language_info": {
   "codemirror_mode": {
    "name": "ipython",
    "version": 3
   },
   "file_extension": ".py",
   "mimetype": "text/x-python",
   "name": "python",
   "nbconvert_exporter": "python",
   "pygments_lexer": "ipython3",
   "version": "3.10.13"
  }
 },
 "nbformat": 4,
 "nbformat_minor": 2
}
